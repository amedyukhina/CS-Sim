{
 "cells": [
  {
   "cell_type": "markdown",
   "id": "4e4d1c8c-0bec-4fcf-977c-8fd3823235d7",
   "metadata": {},
   "source": [
    "# Demo notebook for generating a synthetic 3D image with lines and corrupting it with noise and Gaussian blur"
   ]
  },
  {
   "cell_type": "code",
   "execution_count": 1,
   "id": "5bb2fad6-bc28-4755-b678-ab02244389d6",
   "metadata": {},
   "outputs": [],
   "source": [
    "import numpy as np\n",
    "from skimage import io\n",
    "import json\n",
    "\n",
    "from cs_sim.synth.filaments import generate_img_with_filaments\n",
    "from cs_sim.corrupt import corrupt_image"
   ]
  },
  {
   "cell_type": "markdown",
   "id": "e4ce6212-d0fd-4f03-99fc-84cec4b097c3",
   "metadata": {},
   "source": [
    "## Specify parameters for a synthetic image"
   ]
  },
  {
   "cell_type": "code",
   "execution_count": 2,
   "id": "a80dffae-d230-4c1c-a1c0-310d444f33d0",
   "metadata": {},
   "outputs": [],
   "source": [
    "params_synth_data = dict(\n",
    "    imgshape=(20, 100, 100),\n",
    "    n_filaments=10,\n",
    "    maxval=255,\n",
    "    n_points=100\n",
    ")"
   ]
  },
  {
   "cell_type": "markdown",
   "id": "b05b13fe-f559-486c-bffe-b16ad58e1422",
   "metadata": {},
   "source": [
    "## Generate a synthetic image with filaments\n",
    "\n",
    "### 2D image with sine-shaped cuves"
   ]
  },
  {
   "cell_type": "code",
   "execution_count": 3,
   "id": "2bc8678b-8e6d-4d00-b3ab-e95d7a2fd3e9",
   "metadata": {},
   "outputs": [
    {
     "name": "stderr",
     "output_type": "stream",
     "text": [
      "/research/sharedresources/cbi/common/Anna/anaconda3/envs/quamd/lib/python3.9/site-packages/skimage/io/_plugins/matplotlib_plugin.py:150: UserWarning: Float image out of standard range; displaying image with stretched contrast.\n",
      "  lo, hi, cmap = _get_display_range(image)\n"
     ]
    },
    {
     "data": {
      "text/plain": [
       "<matplotlib.image.AxesImage at 0x7f224093e100>"
      ]
     },
     "execution_count": 3,
     "metadata": {},
     "output_type": "execute_result"
    },
    {
     "data": {
      "image/png": "[encoded data removed]",
      "text/plain": [
       "<Figure size 432x288 with 2 Axes>"
      ]
     },
     "metadata": {
      "needs_background": "light"
     },
     "output_type": "display_data"
    }
   ],
   "source": [
    "img = generate_img_with_filaments(imgshape=(100, 100), n_filaments=10, maxval=255, n_points=100)\n",
    "io.imshow(img)"
   ]
  },
  {
   "cell_type": "markdown",
   "id": "85af8356-c62d-495e-83ce-e60f14469471",
   "metadata": {},
   "source": [
    "### 2D image with straight lines that are uniquely labeled "
   ]
  },
  {
   "cell_type": "code",
   "execution_count": 4,
   "id": "88a368b5-2e47-450f-8984-749e60b88477",
   "metadata": {},
   "outputs": [
    {
     "data": {
      "text/plain": [
       "<matplotlib.image.AxesImage at 0x7f224079dac0>"
      ]
     },
     "execution_count": 4,
     "metadata": {},
     "output_type": "execute_result"
    },
    {
     "data": {
      "image/png": "[encoded data removed]",
      "text/plain": [
       "<Figure size 432x288 with 2 Axes>"
      ]
     },
     "metadata": {
      "needs_background": "light"
     },
     "output_type": "display_data"
    }
   ],
   "source": [
    "img = generate_img_with_filaments(imgshape=(100, 100), curve_type='line', n_filaments=10, maxval=255, n_points=100, instance=True)\n",
    "io.imshow(img)"
   ]
  },
  {
   "cell_type": "markdown",
   "id": "05dbab72-b782-49c5-be2c-88b1e5a66335",
   "metadata": {},
   "source": [
    "### 3D image "
   ]
  },
  {
   "cell_type": "code",
   "execution_count": 5,
   "id": "46a9a512-1683-42cd-8221-a06889c1971a",
   "metadata": {},
   "outputs": [
    {
     "data": {
      "text/plain": [
       "<matplotlib.image.AxesImage at 0x7f22406d7a00>"
      ]
     },
     "execution_count": 5,
     "metadata": {},
     "output_type": "execute_result"
    },
    {
     "data": {
      "image/png": "[encoded data removed]",
      "text/plain": [
       "<Figure size 432x288 with 2 Axes>"
      ]
     },
     "metadata": {
      "needs_background": "light"
     },
     "output_type": "display_data"
    }
   ],
   "source": [
    "img = generate_img_with_filaments(imgshape=(20, 100, 100), curve_type='sine_curve', n_filaments=10, maxval=255, n_points=100, instance=True)\n",
    "io.imshow(img.max(0))"
   ]
  },
  {
   "cell_type": "markdown",
   "id": "04dc3d1e-d2d8-46bb-85c4-3b8a43580f6a",
   "metadata": {},
   "source": [
    "### Details of the input parameters:"
   ]
  },
  {
   "cell_type": "code",
   "execution_count": 6,
   "id": "3b4bbebb-9f45-4b3c-9de5-847098896ffe",
   "metadata": {},
   "outputs": [
    {
     "data": {
      "text/plain": [
       "\u001b[0;31mSignature:\u001b[0m\n",
       "\u001b[0mgenerate_img_with_filaments\u001b[0m\u001b[0;34m(\u001b[0m\u001b[0;34m\u001b[0m\n",
       "\u001b[0;34m\u001b[0m    \u001b[0mimgshape\u001b[0m\u001b[0;34m,\u001b[0m\u001b[0;34m\u001b[0m\n",
       "\u001b[0;34m\u001b[0m    \u001b[0mcurve_type\u001b[0m\u001b[0;34m=\u001b[0m\u001b[0;34m'sine_curve'\u001b[0m\u001b[0;34m,\u001b[0m\u001b[0;34m\u001b[0m\n",
       "\u001b[0;34m\u001b[0m    \u001b[0mn_filaments\u001b[0m\u001b[0;34m=\u001b[0m\u001b[0;36m10\u001b[0m\u001b[0;34m,\u001b[0m\u001b[0;34m\u001b[0m\n",
       "\u001b[0;34m\u001b[0m    \u001b[0mmaxval\u001b[0m\u001b[0;34m=\u001b[0m\u001b[0;36m255\u001b[0m\u001b[0;34m,\u001b[0m\u001b[0;34m\u001b[0m\n",
       "\u001b[0;34m\u001b[0m    \u001b[0mn_points\u001b[0m\u001b[0;34m=\u001b[0m\u001b[0;32mNone\u001b[0m\u001b[0;34m,\u001b[0m\u001b[0;34m\u001b[0m\n",
       "\u001b[0;34m\u001b[0m    \u001b[0minstance\u001b[0m\u001b[0;34m=\u001b[0m\u001b[0;32mFalse\u001b[0m\u001b[0;34m,\u001b[0m\u001b[0;34m\u001b[0m\n",
       "\u001b[0;34m\u001b[0m    \u001b[0mthick\u001b[0m\u001b[0;34m=\u001b[0m\u001b[0;32mFalse\u001b[0m\u001b[0;34m,\u001b[0m\u001b[0;34m\u001b[0m\n",
       "\u001b[0;34m\u001b[0m    \u001b[0;34m**\u001b[0m\u001b[0mcurve_kwargs\u001b[0m\u001b[0;34m,\u001b[0m\u001b[0;34m\u001b[0m\n",
       "\u001b[0;34m\u001b[0m\u001b[0;34m)\u001b[0m\u001b[0;34m\u001b[0m\u001b[0;34m\u001b[0m\u001b[0m\n",
       "\u001b[0;31mDocstring:\u001b[0m\n",
       "Generate an image with straight lines.\n",
       "The start and the end of each line are chosen randomly.\n",
       "The line coordinates in between are interpolated with the given number of point (`n_points`)\n",
       "\n",
       "Parameters\n",
       "----------\n",
       "imgshape : tuple\n",
       "    Image shape.\n",
       "    The number of inputs should correspond to the number of dimensions.\n",
       "curve_type : str\n",
       "    Type of the curve ('line' or 'curve').\n",
       "    Default is 'line'.\n",
       "n_filaments : int, optional\n",
       "    Number of filaments to generate.\n",
       "    Default is 10.\n",
       "maxval : scalar, optional\n",
       "    The value to be assigned to the lines/foreground (the background value is 0).\n",
       "    Default is 255.\n",
       "n_points : int, optional\n",
       "    Number of points to represent each line.\n",
       "    Should be on the order of image size.\n",
       "    Increase if lines get disconnected.\n",
       "    If None, the number of points is set to 2x the image dimension.\n",
       "    Default is None.\n",
       "instance : bool, optional\n",
       "    If True, assign unique intensity value to each line.\n",
       "    Default is False.\n",
       "thick : bool, optional\n",
       "    If True, will dilate the lines image to get thicker lines.\n",
       "    Default is False.\n",
       "curve_kwargs : key value\n",
       "    Parameters for the curve generation function\n",
       "\n",
       "Returns\n",
       "-------\n",
       "np.ndarray:\n",
       "    Image with straight lines.\n",
       "\u001b[0;31mFile:\u001b[0m      /research/sharedresources/cbi/common/Anna/codes/CS-Sim/cs_sim/synth/filaments.py\n",
       "\u001b[0;31mType:\u001b[0m      function\n"
      ]
     },
     "metadata": {},
     "output_type": "display_data"
    }
   ],
   "source": [
    "generate_img_with_filaments?"
   ]
  },
  {
   "cell_type": "markdown",
   "id": "92b9aea3-053e-488f-a98a-8d9b6b2d4319",
   "metadata": {},
   "source": [
    "\n",
    "------------\n",
    "\n",
    "## Specify parameters for image corruption with noise and blurring\n",
    "\n",
    "There are 4 steps that can be combined in any order:\n",
    "\n",
    "1. Perlin noise: adds low-frequency background. The `size` parameter specifies the size of the low-frequency pattern (in pixels), the `value` parameter specifies the amplitude.\n",
    "2. Convolve: convolves the image with either a specified PSF image (`psf` parameter), or with a gaussian kernel of specified `sigma`. \n",
    "3. Poisson noise, with specified `snr`.\n",
    "4. Gaussian noise, with specified `snr`."
   ]
  },
  {
   "cell_type": "code",
   "execution_count": 7,
   "id": "dd48b74b-604b-41d8-bfd7-f3e96c5421b8",
   "metadata": {},
   "outputs": [],
   "source": [
    "corruption_steps = [\n",
    "    ('perlin_noise', {'size': 50, 'value': 0.1}),\n",
    "    ('poisson_noise', {'snr': 2}),\n",
    "    ('convolve', {'sigma': 2}),\n",
    "    ('gaussian_noise', {'snr': 100})\n",
    "]"
   ]
  },
  {
   "cell_type": "markdown",
   "id": "5496cc38-b96d-42f8-962b-0b39fc2c902b",
   "metadata": {},
   "source": [
    "## Corrupt the image with the specified corruption steps"
   ]
  },
  {
   "cell_type": "code",
   "execution_count": 8,
   "id": "c0cda447-2997-4206-bf95-fb28bdbfd678",
   "metadata": {},
   "outputs": [],
   "source": [
    "imgf = corrupt_image(img, corruption_steps)"
   ]
  },
  {
   "cell_type": "code",
   "execution_count": 9,
   "id": "70dc3260-e0b8-4412-8717-8963c8e20d02",
   "metadata": {},
   "outputs": [
    {
     "data": {
      "text/plain": [
       "<matplotlib.image.AxesImage at 0x7f224064bb20>"
      ]
     },
     "execution_count": 9,
     "metadata": {},
     "output_type": "execute_result"
    },
    {
     "data": {
      "image/png": "[encoded data removed]",
      "text/plain": [
       "<Figure size 432x288 with 2 Axes>"
      ]
     },
     "metadata": {
      "needs_background": "light"
     },
     "output_type": "display_data"
    }
   ],
   "source": [
    "io.imshow(imgf.max(0))"
   ]
  },
  {
   "cell_type": "markdown",
   "id": "d64404ab-3e42-4291-b758-ec725ec8f274",
   "metadata": {},
   "source": [
    "## Save parameters to a json file for batch processing"
   ]
  },
  {
   "cell_type": "code",
   "execution_count": 10,
   "id": "12029e9c-7a6d-4542-acc3-9e453ba0427d",
   "metadata": {},
   "outputs": [],
   "source": [
    "params_synth_data = dict(\n",
    "    imgshape=(20, 100, 100),\n",
    "    n_filaments=10,\n",
    "    maxval=255,\n",
    "    n_points=100\n",
    ")"
   ]
  },
  {
   "cell_type": "code",
   "execution_count": 11,
   "id": "5a0985b2-8de6-45b9-b23f-10582d778a3a",
   "metadata": {},
   "outputs": [],
   "source": [
    "param_fn_synth = 'parameters_synthetic.json'"
   ]
  },
  {
   "cell_type": "code",
   "execution_count": 12,
   "id": "b3cab755-0d93-41ad-a01c-68364d5a9fec",
   "metadata": {},
   "outputs": [],
   "source": [
    "with open(param_fn_synth, 'w') as f:\n",
    "    json.dump(params_synth_data, f, indent=4)"
   ]
  },
  {
   "cell_type": "code",
   "execution_count": 13,
   "id": "276d344b-2589-47e9-8dcf-510d3928b63c",
   "metadata": {},
   "outputs": [],
   "source": [
    "param_fn_corruption = 'corruption_steps.json'"
   ]
  },
  {
   "cell_type": "code",
   "execution_count": 14,
   "id": "d87b52bb-935e-4a95-9ba7-d087ecdbb89f",
   "metadata": {},
   "outputs": [],
   "source": [
    "with open(param_fn_corruption, 'w') as f:\n",
    "    json.dump(corruption_steps, f, indent=4)"
   ]
  },
  {
   "cell_type": "code",
   "execution_count": null,
   "id": "a83f26c3-9040-47be-80b8-c3d0c9b3d8b7",
   "metadata": {},
   "outputs": [],
   "source": []
  }
 ],
 "metadata": {
  "kernelspec": {
   "display_name": "Python [conda env:quamd]",
   "language": "python",
   "name": "conda-env-quamd-py"
  },
  "language_info": {
   "codemirror_mode": {
    "name": "ipython",
    "version": 3
   },
   "file_extension": ".py",
   "mimetype": "text/x-python",
   "name": "python",
   "nbconvert_exporter": "python",
   "pygments_lexer": "ipython3",
   "version": "3.9.0"
  }
 },
 "nbformat": 4,
 "nbformat_minor": 5
}
