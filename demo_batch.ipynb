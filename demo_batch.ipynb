{
 "cells": [
  {
   "cell_type": "markdown",
   "id": "4e4d1c8c-0bec-4fcf-977c-8fd3823235d7",
   "metadata": {},
   "source": [
    "# Demo notebook for batch generation of synthetic 3D images with lines and corrupting them with noise and Gaussian blur"
   ]
  },
  {
   "cell_type": "code",
   "execution_count": 1,
   "id": "5bb2fad6-bc28-4755-b678-ab02244389d6",
   "metadata": {},
   "outputs": [],
   "source": [
    "import numpy as np\n",
    "import os\n",
    "from skimage import io\n",
    "import json\n",
    "\n",
    "from cs_sim.batch.batch_corrupt import batch_corrupt_image\n",
    "from cs_sim.batch.batch_synth import batch_generate_img_with_lines"
   ]
  },
  {
   "cell_type": "markdown",
   "id": "e4ce6212-d0fd-4f03-99fc-84cec4b097c3",
   "metadata": {},
   "source": [
    "## Specify and save parameters for a synthetic image"
   ]
  },
  {
   "cell_type": "code",
   "execution_count": 2,
   "id": "a80dffae-d230-4c1c-a1c0-310d444f33d0",
   "metadata": {},
   "outputs": [],
   "source": [
    "params_synth_data = dict(\n",
    "    imgshape=(20, 100, 100),\n",
    "    n_lines=10,\n",
    "    maxval=255,\n",
    "    n_points=100\n",
    ")"
   ]
  },
  {
   "cell_type": "code",
   "execution_count": 3,
   "id": "5a0985b2-8de6-45b9-b23f-10582d778a3a",
   "metadata": {},
   "outputs": [],
   "source": [
    "param_fn_synth = 'parameters_synthetic.json'"
   ]
  },
  {
   "cell_type": "code",
   "execution_count": 4,
   "id": "b3cab755-0d93-41ad-a01c-68364d5a9fec",
   "metadata": {},
   "outputs": [],
   "source": [
    "with open(param_fn_synth, 'w') as f:\n",
    "    json.dump(params_synth_data, f, indent=4)"
   ]
  },
  {
   "cell_type": "markdown",
   "id": "5a73ec27-1906-452d-a776-2ad882bfa51a",
   "metadata": {},
   "source": [
    "## Read synthetic data parameters from file and generate synthetic images in batch"
   ]
  },
  {
   "cell_type": "code",
   "execution_count": 5,
   "id": "712c003b-aba7-4278-b29e-60aa29614e81",
   "metadata": {},
   "outputs": [
    {
     "data": {
      "text/plain": [
       "{'imgshape': [20, 100, 100], 'n_lines': 10, 'maxval': 255, 'n_points': 100}"
      ]
     },
     "execution_count": 5,
     "metadata": {},
     "output_type": "execute_result"
    }
   ],
   "source": [
    "with open(param_fn_synth) as f:\n",
    "    params = json.load(f)\n",
    "params"
   ]
  },
  {
   "cell_type": "code",
   "execution_count": 6,
   "id": "fd9af5f2-0b26-403f-85b8-439af99dcc48",
   "metadata": {},
   "outputs": [
    {
     "name": "stderr",
     "output_type": "stream",
     "text": [
      "/research/sharedresources/cbi/common/Anna/codes/CS-Sim/cs_sim/batch/batch_synth.py:48: UserWarning: test_input/line_img_00000.tif is a low contrast image\n",
      "  io.imsave(fn_out, img.astype(__get_type(img)))\n",
      "/research/sharedresources/cbi/common/Anna/codes/CS-Sim/cs_sim/batch/batch_synth.py:48: UserWarning: test_input/line_img_00001.tif is a low contrast image\n",
      "  io.imsave(fn_out, img.astype(__get_type(img)))\n",
      "/research/sharedresources/cbi/common/Anna/codes/CS-Sim/cs_sim/batch/batch_synth.py:48: UserWarning: test_input/line_img_00003.tif is a low contrast image\n",
      "  io.imsave(fn_out, img.astype(__get_type(img)))\n",
      "/research/sharedresources/cbi/common/Anna/codes/CS-Sim/cs_sim/batch/batch_synth.py:48: UserWarning: test_input/line_img_00002.tif is a low contrast image\n",
      "  io.imsave(fn_out, img.astype(__get_type(img)))\n",
      "/research/sharedresources/cbi/common/Anna/codes/CS-Sim/cs_sim/batch/batch_synth.py:48: UserWarning: test_input/line_img_00005.tif is a low contrast image\n",
      "  io.imsave(fn_out, img.astype(__get_type(img)))\n",
      "/research/sharedresources/cbi/common/Anna/codes/CS-Sim/cs_sim/batch/batch_synth.py:48: UserWarning: test_input/line_img_00004.tif is a low contrast image\n",
      "  io.imsave(fn_out, img.astype(__get_type(img)))\n",
      "/research/sharedresources/cbi/common/Anna/codes/CS-Sim/cs_sim/batch/batch_synth.py:48: UserWarning: test_input/line_img_00008.tif is a low contrast image\n",
      "  io.imsave(fn_out, img.astype(__get_type(img)))\n",
      "/research/sharedresources/cbi/common/Anna/codes/CS-Sim/cs_sim/batch/batch_synth.py:48: UserWarning: test_input/line_img_00006.tif is a low contrast image\n",
      "  io.imsave(fn_out, img.astype(__get_type(img)))\n",
      "/research/sharedresources/cbi/common/Anna/codes/CS-Sim/cs_sim/batch/batch_synth.py:48: UserWarning: test_input/line_img_00007.tif is a low contrast image\n",
      "  io.imsave(fn_out, img.astype(__get_type(img)))\n",
      "/research/sharedresources/cbi/common/Anna/codes/CS-Sim/cs_sim/batch/batch_synth.py:48: UserWarning: test_input/line_img_00009.tif is a low contrast image\n",
      "  io.imsave(fn_out, img.astype(__get_type(img)))\n"
     ]
    }
   ],
   "source": [
    "batch_generate_img_with_lines(n_img=10, n_jobs=10, dir_out='test_input', **params);"
   ]
  },
  {
   "cell_type": "code",
   "execution_count": 7,
   "id": "af8b6093-e007-405a-a6ce-5298c1fb7bc2",
   "metadata": {},
   "outputs": [
    {
     "data": {
      "text/plain": [
       "<matplotlib.image.AxesImage at 0x7f650c1b0220>"
      ]
     },
     "execution_count": 7,
     "metadata": {},
     "output_type": "execute_result"
    },
    {
     "data": {
      "image/png": "[encoded data removed]",
      "text/plain": [
       "<Figure size 432x288 with 1 Axes>"
      ]
     },
     "metadata": {
      "needs_background": "light"
     },
     "output_type": "display_data"
    }
   ],
   "source": [
    "io.imshow(io.imread(os.path.join('test_input', os.listdir('test_input')[0])).max(0))"
   ]
  },
  {
   "cell_type": "markdown",
   "id": "92b9aea3-053e-488f-a98a-8d9b6b2d4319",
   "metadata": {},
   "source": [
    "## Specify and save parameters for image corruption with noise and blurring\n",
    "\n",
    "There are 4 steps that can be combined in any order:\n",
    "\n",
    "1. Perlin noise: adds low-frequency background. The `size` parameter specifies the size of the low-frequency pattern (in pixels), the `value` parameter specifies the amplitude.\n",
    "2. Convolve: convolves the image with either a specified PSF image (`psf` parameter), or with a gaussian kernel of specified `sigma`. \n",
    "3. Poisson noise, with specified `snr`.\n",
    "4. Gaussian noise, with specified `snr`."
   ]
  },
  {
   "cell_type": "code",
   "execution_count": 8,
   "id": "dd48b74b-604b-41d8-bfd7-f3e96c5421b8",
   "metadata": {},
   "outputs": [],
   "source": [
    "corruption_steps = [\n",
    "    ('perlin_noise', {'size': 50, 'value': 0.1}),\n",
    "    ('poisson_noise', {'snr': 2}),\n",
    "    ('convolve', {'sigma': 2}),\n",
    "    ('gaussian_noise', {'snr': 100})\n",
    "]"
   ]
  },
  {
   "cell_type": "code",
   "execution_count": 9,
   "id": "276d344b-2589-47e9-8dcf-510d3928b63c",
   "metadata": {},
   "outputs": [],
   "source": [
    "param_fn_corruption = 'corruption_steps.json'"
   ]
  },
  {
   "cell_type": "code",
   "execution_count": 10,
   "id": "d87b52bb-935e-4a95-9ba7-d087ecdbb89f",
   "metadata": {},
   "outputs": [],
   "source": [
    "with open(param_fn_corruption, 'w') as f:\n",
    "    json.dump(corruption_steps, f, indent=4)"
   ]
  },
  {
   "cell_type": "markdown",
   "id": "f5755770-7449-4c15-b22c-1f92ef545406",
   "metadata": {},
   "source": [
    "## Read the corruption steps from json file and apply them to the synthetic line images"
   ]
  },
  {
   "cell_type": "code",
   "execution_count": 11,
   "id": "dcb8ffbd-5a4b-4ee5-aaab-e3bcf2d31e96",
   "metadata": {},
   "outputs": [
    {
     "data": {
      "text/plain": [
       "[['perlin_noise', {'size': 50, 'value': 0.1}],\n",
       " ['poisson_noise', {'snr': 2}],\n",
       " ['convolve', {'sigma': 2}],\n",
       " ['gaussian_noise', {'snr': 100}]]"
      ]
     },
     "execution_count": 11,
     "metadata": {},
     "output_type": "execute_result"
    }
   ],
   "source": [
    "with open(param_fn_corruption) as f:\n",
    "    corr_steps = json.load(f)\n",
    "corr_steps"
   ]
  },
  {
   "cell_type": "code",
   "execution_count": 12,
   "id": "97d45792-ebfe-4a6c-8ab7-c027c376bee2",
   "metadata": {},
   "outputs": [],
   "source": [
    "batch_corrupt_image('test_input', 'test_output', corr_steps, n_jobs=10)"
   ]
  },
  {
   "cell_type": "code",
   "execution_count": 13,
   "id": "f6b556b9-2984-45a5-9234-e54b2fa95b7b",
   "metadata": {},
   "outputs": [
    {
     "data": {
      "text/plain": [
       "<matplotlib.image.AxesImage at 0x7f650c0a5fa0>"
      ]
     },
     "execution_count": 13,
     "metadata": {},
     "output_type": "execute_result"
    },
    {
     "data": {
      "image/png": "[encoded data removed]",
      "text/plain": [
       "<Figure size 432x288 with 1 Axes>"
      ]
     },
     "metadata": {
      "needs_background": "light"
     },
     "output_type": "display_data"
    }
   ],
   "source": [
    "io.imshow(io.imread(os.path.join('test_output', os.listdir('test_output')[0])).max(0))"
   ]
  },
  {
   "cell_type": "code",
   "execution_count": null,
   "id": "44ac8962-82e1-4bc0-93dd-e76ad1bde3ae",
   "metadata": {},
   "outputs": [],
   "source": []
  }
 ],
 "metadata": {
  "kernelspec": {
   "display_name": "Python [conda env:quamd]",
   "language": "python",
   "name": "conda-env-quamd-py"
  },
  "language_info": {
   "codemirror_mode": {
    "name": "ipython",
    "version": 3
   },
   "file_extension": ".py",
   "mimetype": "text/x-python",
   "name": "python",
   "nbconvert_exporter": "python",
   "pygments_lexer": "ipython3",
   "version": "3.9.0"
  }
 },
 "nbformat": 4,
 "nbformat_minor": 5
}
